{
 "cells": [
  {
   "cell_type": "code",
   "execution_count": 4,
   "metadata": {},
   "outputs": [
    {
     "name": "stdout",
     "output_type": "stream",
     "text": [
      "[{'_id': ObjectId('5c50d2b9cdee283ea62651c7'), 'customer_id': '420', 'price': '400', 'abc': 'victory'}]\n",
      "\n",
      "Time elapsed:70.74093818664551 ms\n"
     ]
    }
   ],
   "source": [
    "## Importing the libraries\n",
    "import sys\n",
    "import pandas as pd\n",
    "import pymongo\n",
    "import json\n",
    "import os\n",
    "from time import time\n",
    "from pymongo import MongoClient\n",
    "\n",
    "\n",
    "# ## Establishing connection with the database\n",
    "mng_client = MongoClient('192.168.0.105', 27017)\n",
    "mng_db = mng_client['Database1']\n",
    "# client = PyConnection()\n",
    "# db = client.Database\n",
    "product = mng_db.Database1\n",
    "# payment = db.Payment\n",
    "# customer = mng_db.customer\n",
    "# hits = db.Hits_counter\n",
    "\n",
    "def end():\n",
    "    print ('\\nTime elapsed:'  + str((time()-t)*1000) + ' ms')\n",
    "\n",
    "\n",
    "# r = input('Enter the product name: ')\n",
    "t = time()\n",
    "li2 = list(product.find({\"customer_id\": \"420\"}))\n",
    "print(li2)\n",
    "end()\n",
    "\n",
    "\n",
    "# s = input()\n",
    "# t = time()\n",
    "# hits.update({\"product_id\": s}, {\"$inc\": {\"product_hits\": 1}})\n",
    "# print(result)\n",
    "# print(len(result))\n",
    "# end()\n",
    "   \n",
    "    "
   ]
  },
  {
   "cell_type": "code",
   "execution_count": null,
   "metadata": {},
   "outputs": [],
   "source": []
  },
  {
   "cell_type": "code",
   "execution_count": null,
   "metadata": {},
   "outputs": [],
   "source": []
  },
  {
   "cell_type": "code",
   "execution_count": null,
   "metadata": {},
   "outputs": [],
   "source": []
  },
  {
   "cell_type": "code",
   "execution_count": null,
   "metadata": {},
   "outputs": [],
   "source": []
  }
 ],
 "metadata": {
  "kernelspec": {
   "display_name": "Python 3",
   "language": "python",
   "name": "python3"
  },
  "language_info": {
   "codemirror_mode": {
    "name": "ipython",
    "version": 3
   },
   "file_extension": ".py",
   "mimetype": "text/x-python",
   "name": "python",
   "nbconvert_exporter": "python",
   "pygments_lexer": "ipython3",
   "version": "3.6.4"
  }
 },
 "nbformat": 4,
 "nbformat_minor": 2
}
